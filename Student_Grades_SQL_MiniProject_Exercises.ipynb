{
 "cells": [
  {
   "cell_type": "markdown",
   "metadata": {},
   "source": [
    "# 📘 How to Use This Notebook\n",
    "\n",
    "Welcome to the **Mini SQL Project: Student Grades Tracker**.\n",
    "\n",
    "This notebook is your interactive workspace to **learn SQL through Python and SQLite**.\n",
    "\n",
    "### 🔧 Here's how to use it:\n",
    "1. **Run the first few cells** to set up your database.\n",
    "2. **Read the example SQL queries** provided in each section.\n",
    "3. **Try solving the exercises yourself** in the \"✍️ Your code here\" cells.\n",
    "4. **Compare with the solution** provided afterwards to check your understanding.\n",
    "5. **Experiment freely!** Modify the queries, change the data, and see what happens.\n",
    "\n",
    "This notebook won’t auto-grade you — the goal is to **build your skills by doing**, step-by-step.\n",
    "\n",
    "Let's get started! 🚀"
   ]
  },
  {
   "cell_type": "markdown",
   "metadata": {},
   "source": [
    "# 🎓 Mini SQL Project: Student Grades Tracker\n",
    "\n",
    "This beginner-friendly project teaches core SQL concepts using Python and SQLite inside a Jupyter notebook.\n",
    "\n",
    "We'll build a simple database to track students, courses, and their grades."
   ]
  },
  {
   "cell_type": "code",
   "execution_count": 1,
   "metadata": {},
   "outputs": [
    {
     "name": "stdout",
     "output_type": "stream",
     "text": [
      "Database connected.\n"
     ]
    }
   ],
   "source": [
    "# ✅ Step 1: Create and connect to SQLite database\n",
    "import sqlite3\n",
    "\n",
    "# Connect to (or create) the database file\n",
    "conn = sqlite3.connect(\"student_grades.db\")\n",
    "cur = conn.cursor()\n",
    "print(\"Database connected.\")"
   ]
  },
  {
   "cell_type": "code",
   "execution_count": 2,
   "metadata": {},
   "outputs": [
    {
     "name": "stdout",
     "output_type": "stream",
     "text": [
      "Tables created.\n"
     ]
    }
   ],
   "source": [
    "# ✅ Step 2: Create tables\n",
    "cur.execute('''\n",
    "CREATE TABLE IF NOT EXISTS students (\n",
    "    id INTEGER PRIMARY KEY AUTOINCREMENT,\n",
    "    name TEXT NOT NULL,\n",
    "    age INTEGER\n",
    ")''')\n",
    "\n",
    "cur.execute('''\n",
    "CREATE TABLE IF NOT EXISTS courses (\n",
    "    id INTEGER PRIMARY KEY AUTOINCREMENT,\n",
    "    name TEXT NOT NULL\n",
    ")''')\n",
    "\n",
    "cur.execute('''\n",
    "CREATE TABLE IF NOT EXISTS grades (\n",
    "    id INTEGER PRIMARY KEY AUTOINCREMENT,\n",
    "    student_id INTEGER,\n",
    "    course_id INTEGER,\n",
    "    grade INTEGER,\n",
    "    FOREIGN KEY(student_id) REFERENCES students(id),\n",
    "    FOREIGN KEY(course_id) REFERENCES courses(id)\n",
    ")''')\n",
    "\n",
    "conn.commit()\n",
    "print(\"Tables created.\")"
   ]
  },
  {
   "cell_type": "code",
   "execution_count": 3,
   "metadata": {},
   "outputs": [
    {
     "name": "stdout",
     "output_type": "stream",
     "text": [
      "Dummy data inserted.\n"
     ]
    }
   ],
   "source": [
    "# ✅ Step 3: Insert dummy data\n",
    "\n",
    "\n",
    "\n",
    "\n",
    "students = [('Alice', 20), ('Bob', 19), ('Charlie', 22)]\n",
    "courses = [('Math',), ('History',), ('Biology',)]\n",
    "grades = [(1, 1, 85), (1, 2, 78), (2, 1, 90), (3, 3, 88)]\n",
    "\n",
    "cur.executemany(\"INSERT INTO students (name, age) VALUES (?, ?)\", students)\n",
    "cur.executemany(\"INSERT INTO courses (name) VALUES (?)\", courses)\n",
    "cur.executemany(\"INSERT INTO grades (student_id, course_id, grade) VALUES (?, ?, ?)\", grades)\n",
    "\n",
    "conn.commit()\n",
    "print(\"Dummy data inserted.\")"
   ]
  },
  {
   "cell_type": "markdown",
   "metadata": {},
   "source": [
    "You're now ready to start exploring the database using SELECT queries, JOINs, and aggregations in the next steps!"
   ]
  },
  {
   "cell_type": "markdown",
   "metadata": {},
   "source": [
    "## 🔍 SELECT Queries\n",
    "Let's start by reading data from the database.\n",
    "\n",
    "**🧪 Try this:** Show all students from the `students` table."
   ]
  },
  {
   "cell_type": "code",
   "execution_count": 4,
   "metadata": {},
   "outputs": [
    {
     "name": "stdout",
     "output_type": "stream",
     "text": [
      "(34, 'Alice', 20)\n",
      "(35, 'Bob', 19)\n",
      "(36, 'Charlie', 22)\n",
      "(37, 'Alice', 20)\n",
      "(38, 'Bob', 19)\n",
      "(39, 'Charlie', 22)\n",
      "(40, 'Alice', 20)\n",
      "(41, 'Bob', 19)\n",
      "(42, 'Charlie', 22)\n",
      "(43, 'Alice', 20)\n",
      "(44, 'Bob', 19)\n",
      "(45, 'Charlie', 22)\n"
     ]
    }
   ],
   "source": [
    "cur.execute(\"SELECT * FROM students\")\n",
    "for row in cur.fetchall():\n",
    "    print(row)"
   ]
  },
  {
   "cell_type": "markdown",
   "metadata": {},
   "source": [
    "**💡 Task:** Write a query that only shows the names of the students."
   ]
  },
  {
   "cell_type": "code",
   "execution_count": 5,
   "metadata": {},
   "outputs": [
    {
     "name": "stdout",
     "output_type": "stream",
     "text": [
      "('Alice',)\n",
      "('Bob',)\n",
      "('Charlie',)\n",
      "('Alice',)\n",
      "('Bob',)\n",
      "('Charlie',)\n",
      "('Alice',)\n",
      "('Bob',)\n",
      "('Charlie',)\n",
      "('Alice',)\n",
      "('Bob',)\n",
      "('Charlie',)\n"
     ]
    }
   ],
   "source": [
    "# ✍️ Your code here\n",
    "cur.execute(\"SELECT name FROM students\")\n",
    "for name in cur.fetchall():\n",
    "    print(name)"
   ]
  },
  {
   "cell_type": "markdown",
   "metadata": {},
   "source": [
    "**✅ Solution:**"
   ]
  },
  {
   "cell_type": "code",
   "execution_count": 6,
   "metadata": {},
   "outputs": [
    {
     "name": "stdout",
     "output_type": "stream",
     "text": [
      "[('Alice',), ('Bob',), ('Charlie',), ('Alice',), ('Bob',), ('Charlie',), ('Alice',), ('Bob',), ('Charlie',), ('Alice',), ('Bob',), ('Charlie',)]\n"
     ]
    }
   ],
   "source": [
    "cur.execute(\"SELECT name FROM students\")\n",
    "print(cur.fetchall())"
   ]
  },
  {
   "cell_type": "markdown",
   "metadata": {},
   "source": [
    "## 🎯 Filtering with WHERE\n",
    "**🧪 Try this:** Show students who are older than 20."
   ]
  },
  {
   "cell_type": "code",
   "execution_count": 7,
   "metadata": {},
   "outputs": [
    {
     "name": "stdout",
     "output_type": "stream",
     "text": [
      "[('Bob',), ('Bob',), ('Bob',), ('Bob',)]\n"
     ]
    }
   ],
   "source": [
    "cur.execute(\"SELECT name FROM students WHERE age < 20\")\n",
    "print(cur.fetchall())"
   ]
  },
  {
   "cell_type": "markdown",
   "metadata": {},
   "source": [
    "## 🔗 Using JOIN to Connect Tables\n",
    "Let's view student names, course names, and grades together.\n",
    "\n",
    "**🧪 Try this:**"
   ]
  },
  {
   "cell_type": "code",
   "execution_count": 8,
   "metadata": {},
   "outputs": [],
   "source": [
    "# Change this cell:\n",
    "cur.execute('''\n",
    "    SELECT students.name, grades.grade, courses.name\n",
    "    FROM grades\n",
    "    JOIN students ON students.id = grades.student_id\n",
    "    JOIN courses ON courses.id = grades.course_id\n",
    "''')\n",
    "\n",
    "for row in cur.fetchall():\n",
    "    print(row)"
   ]
  }
 ],
 "metadata": {
  "kernelspec": {
   "display_name": "Python 3",
   "language": "python",
   "name": "python3"
  },
  "language_info": {
   "codemirror_mode": {
    "name": "ipython",
    "version": 3
   },
   "file_extension": ".py",
   "mimetype": "text/x-python",
   "name": "python",
   "nbconvert_exporter": "python",
   "pygments_lexer": "ipython3",
   "version": "3.13.3"
  }
 },
 "nbformat": 4,
 "nbformat_minor": 2
}
